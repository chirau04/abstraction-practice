{
 "cells": [
  {
   "cell_type": "code",
   "execution_count": 4,
   "id": "f4c2186b-1b26-426c-860b-3b21832c5906",
   "metadata": {},
   "outputs": [],
   "source": [
    "import abc\n",
    "class pwskills:\n",
    "    @abc.abstractmethod\n",
    "    def student_details(self):\n",
    "        pass\n",
    "    @abc.abstractmethod\n",
    "    def student_assignment(self):\n",
    "        pass\n",
    "    @abc.abstractmethod\n",
    "    def student_marks(self):\n",
    "        pass"
   ]
  },
  {
   "cell_type": "code",
   "execution_count": 5,
   "id": "ae540bbf-cd7f-44d3-be37-cbec44c01b12",
   "metadata": {},
   "outputs": [],
   "source": [
    "class student_details(pwskills):\n",
    "    \n",
    "    def student_details(self):\n",
    "        return\"this is a method for taking student details\"\n",
    "    def student_assignment(self):\n",
    "        return\"this is a meth for assigndetail for a particular student\""
   ]
  },
  {
   "cell_type": "code",
   "execution_count": 6,
   "id": "34df726d-e062-4321-aaeb-3861c4ea2f2d",
   "metadata": {},
   "outputs": [],
   "source": [
    "class data_science_masters(pwskills):\n",
    "    def student_details(self):\n",
    "        return\"this will return a student detail for data science masters\"\n",
    "    def student_assignment(self):\n",
    "        return\"this will give you a student assignment detail for data science masters\""
   ]
  },
  {
   "cell_type": "code",
   "execution_count": 7,
   "id": "43ee2957-2ecb-4503-bab1-007ea25cf129",
   "metadata": {},
   "outputs": [
    {
     "ename": "NameError",
     "evalue": "name 'data_science_master' is not defined",
     "output_type": "error",
     "traceback": [
      "\u001b[0;31m---------------------------------------------------------------------------\u001b[0m",
      "\u001b[0;31mNameError\u001b[0m                                 Traceback (most recent call last)",
      "Cell \u001b[0;32mIn[7], line 1\u001b[0m\n\u001b[0;32m----> 1\u001b[0m dsm \u001b[38;5;241m=\u001b[39m \u001b[43mdata_science_master\u001b[49m()\n",
      "\u001b[0;31mNameError\u001b[0m: name 'data_science_master' is not defined"
     ]
    }
   ],
   "source": [
    "dsm = data_science_master()"
   ]
  },
  {
   "cell_type": "code",
   "execution_count": null,
   "id": "695cb0a5-fd81-42ab-9f1f-437d0daf48e3",
   "metadata": {},
   "outputs": [],
   "source": []
  }
 ],
 "metadata": {
  "kernelspec": {
   "display_name": "Python 3 (ipykernel)",
   "language": "python",
   "name": "python3"
  },
  "language_info": {
   "codemirror_mode": {
    "name": "ipython",
    "version": 3
   },
   "file_extension": ".py",
   "mimetype": "text/x-python",
   "name": "python",
   "nbconvert_exporter": "python",
   "pygments_lexer": "ipython3",
   "version": "3.10.8"
  }
 },
 "nbformat": 4,
 "nbformat_minor": 5
}
